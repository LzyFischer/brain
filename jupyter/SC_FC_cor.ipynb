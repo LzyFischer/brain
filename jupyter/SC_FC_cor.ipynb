{
 "cells": [
  {
   "cell_type": "markdown",
   "metadata": {},
   "source": [
    "### External label and SC-FC correlation"
   ]
  },
  {
   "cell_type": "code",
   "execution_count": 1,
   "metadata": {},
   "outputs": [],
   "source": [
    "import pickle \n",
    "import numpy as np\n",
    "import pandas as pd\n",
    "\n",
    "with open('../dataset/processed/data_dict_5_classes.pkl', 'rb') as f:\n",
    "    data_dict = pickle.load(f)\n"
   ]
  },
  {
   "cell_type": "code",
   "execution_count": 4,
   "metadata": {},
   "outputs": [
    {
     "name": "stderr",
     "output_type": "stream",
     "text": [
      "100%|██████████| 6298/6298 [00:04<00:00, 1481.77it/s]\n",
      "/tmp/ipykernel_18579/3870550676.py:38: DeprecationWarning: In future, it will be an error for 'np.bool' scalars to be interpreted as an index\n",
      "  Y = torch.tensor(Y)\n"
     ]
    }
   ],
   "source": [
    "import torch\n",
    "import numpy as np\n",
    "from sklearn.linear_model import LogisticRegression\n",
    "from sklearn.ensemble import RandomForestClassifier\n",
    "from sklearn.metrics import roc_auc_score\n",
    "from tqdm import tqdm\n",
    "from sklearn.model_selection import train_test_split\n",
    "\n",
    "def calculate_correlation(matrix1, matrix2):\n",
    "    # Flatten the matrices\n",
    "    m1_flat = matrix1.flatten()\n",
    "    m2_flat = matrix2.flatten()\n",
    "    # Calculate Pearson correlation manually\n",
    "    m1_mean = m1_flat.mean()\n",
    "    m2_mean = m2_flat.mean()\n",
    "    numerator = ((m1_flat - m1_mean) * (m2_flat - m2_mean)).sum()\n",
    "    denominator = torch.sqrt(((m1_flat - m1_mean) ** 2).sum() * ((m2_flat - m2_mean) ** 2).sum())\n",
    "    cor = numerator / denominator\n",
    "    return cor\n",
    "\n",
    "X = []\n",
    "Y = []\n",
    "for i in tqdm(range(len(data_dict))):\n",
    "    # get FC, and SC\n",
    "    FC = torch.tensor(data_dict[i]['FC'])\n",
    "    SC = torch.tensor(data_dict[i]['SC'])\n",
    "    # calculate the correlation\n",
    "    cor = calculate_correlation(FC, SC)\n",
    "    # get the external label\n",
    "    y = np.array(data_dict[i]['label'])\n",
    "    ext_label = (y[2] + y[3] + y[4] >= 1)\n",
    "    # append to the list\n",
    "    X.append(cor)\n",
    "    Y.append(ext_label)\n",
    "\n",
    "\n",
    "X = torch.tensor(X)\n",
    "Y = torch.tensor(Y)\n",
    "\n",
    "# split the data into train and test\n",
    "train_X, test_X, train_Y, test_Y = train_test_split(X, Y, test_size=0.2, random_state=42)\n",
    "train_X = train_X.reshape(-1, 1)\n",
    "test_X = test_X.reshape(-1, 1)\n"
   ]
  },
  {
   "cell_type": "code",
   "execution_count": 11,
   "metadata": {},
   "outputs": [],
   "source": [
    "\n",
    "# balance the data\n",
    "from imblearn.over_sampling import SMOTE\n",
    "\n",
    "# Apply SMOTE to balance the data\n",
    "smote = SMOTE(random_state=42)\n",
    "train_X_res, train_Y_res = smote.fit_resample(train_X, train_Y)\n",
    "\n",
    "# down sample\n",
    "from imblearn.under_sampling import RandomUnderSampler\n",
    "\n",
    "# Apply RandomUnderSampler to downsample the data\n",
    "rus = RandomUnderSampler(random_state=42)\n",
    "train_X_down, train_Y_down = rus.fit_resample(train_X, train_Y)\n",
    "\n",
    "\n",
    "# train the mode\n",
    "model = LogisticRegression()\n",
    "model.fit(train_X_down, train_Y_down)\n",
    "# evaluate the model\n",
    "yhat = model.predict(test_X)\n",
    "# evaluate predictions with AUC\n",
    "auc = roc_auc_score(test_Y, yhat)"
   ]
  },
  {
   "cell_type": "code",
   "execution_count": 14,
   "metadata": {},
   "outputs": [],
   "source": [
    "# random forest\n",
    "model = RandomForestClassifier(n_estimators=100, max_depth=2, random_state=0)\n",
    "model.fit(train_X_down, train_Y_down)\n",
    "yhat = model.predict(test_X)\n",
    "auc = roc_auc_score(test_Y, yhat)"
   ]
  },
  {
   "cell_type": "code",
   "execution_count": 15,
   "metadata": {},
   "outputs": [
    {
     "data": {
      "text/plain": [
       "np.float64(0.5261384185434819)"
      ]
     },
     "execution_count": 15,
     "metadata": {},
     "output_type": "execute_result"
    }
   ],
   "source": [
    "auc"
   ]
  }
 ],
 "metadata": {
  "kernelspec": {
   "display_name": "brain",
   "language": "python",
   "name": "python3"
  },
  "language_info": {
   "codemirror_mode": {
    "name": "ipython",
    "version": 3
   },
   "file_extension": ".py",
   "mimetype": "text/x-python",
   "name": "python",
   "nbconvert_exporter": "python",
   "pygments_lexer": "ipython3",
   "version": "3.9.20"
  }
 },
 "nbformat": 4,
 "nbformat_minor": 2
}
