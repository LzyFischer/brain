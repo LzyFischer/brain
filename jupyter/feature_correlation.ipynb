{
 "cells": [
  {
   "cell_type": "markdown",
   "metadata": {},
   "source": [
    "## Source: Dataset"
   ]
  },
  {
   "cell_type": "code",
   "execution_count": 1,
   "metadata": {},
   "outputs": [
    {
     "name": "stderr",
     "output_type": "stream",
     "text": [
      "/project/uvadm/zhenyu/miniconda3/envs/brain/lib/python3.9/site-packages/tqdm/auto.py:21: TqdmWarning: IProgress not found. Please update jupyter and ipywidgets. See https://ipywidgets.readthedocs.io/en/stable/user_install.html\n",
      "  from .autonotebook import tqdm as notebook_tqdm\n",
      "Processing...\n",
      "  0%|          | 0/440 [00:00<?, ?it/s]/tmp/ipykernel_159627/3318865960.py:37: UserWarning: To copy construct from a tensor, it is recommended to use sourceTensor.clone().detach() or sourceTensor.clone().detach().requires_grad_(True), rather than torch.tensor(sourceTensor).\n",
      "  adj = torch.tensor(data[\"adj\"], dtype=torch.float32)\n",
      "100%|██████████| 440/440 [00:01<00:00, 299.26it/s]\n"
     ]
    },
    {
     "name": "stdout",
     "output_type": "stream",
     "text": [
      "Saving...\n"
     ]
    },
    {
     "name": "stderr",
     "output_type": "stream",
     "text": [
      "/project/uvadm/zhenyu/miniconda3/envs/brain/lib/python3.9/site-packages/torch_geometric/data/in_memory_dataset.py:300: UserWarning: It is not recommended to directly access the internal storage format `data` of an 'InMemoryDataset'. If you are absolutely certain what you are doing, access the internal storage via `InMemoryDataset._data` instead to suppress this warning. Alternatively, you can access stacked individual attributes of every graph via `dataset.{attr_name}`.\n",
      "  warnings.warn(msg)\n",
      "Done!\n"
     ]
    }
   ],
   "source": [
    "import os\n",
    "import torch\n",
    "from torch.utils.data import Dataset\n",
    "from torch_geometric.data import InMemoryDataset, Data\n",
    "# global mean pooling and global max pooling\n",
    "from torch_geometric.nn import global_mean_pool, global_max_pool\n",
    "from torch_sparse import SparseTensor\n",
    "import os\n",
    "import pickle\n",
    "import sys\n",
    "import dgl\n",
    "import numpy as np\n",
    "import pdb\n",
    "from tqdm import tqdm\n",
    "from torch_geometric.data import DataLoader\n",
    "import torch.nn as nn\n",
    "from torch_geometric.nn import GCNConv\n",
    "from sklearn.metrics import roc_auc_score, accuracy_score\n",
    "\n",
    "\n",
    "# from utils.utils import get_spectral_embedding\n",
    "from dgl.data import DGLDataset\n",
    "\n",
    "from typing import Any, Dict, List, Tuple\n",
    "\n",
    "# set the path to the root directory of the project\n",
    "sys.path.append(os.path.abspath(\"../\"))\n",
    "\n",
    "DATA_PATH = os.path.abspath(\"../dataset/weifeng/all_graphs_2.pkl\")\n",
    "# DATA_PATH = os.path.abspath(\"../dataset/processed/data_dict_site16_binary.pkl\")\n",
    "\n",
    "\n",
    "def pre_transform(data: Dict[str, Any]) -> Data:\n",
    "    \"\"\"Transform the data into torch Data type\"\"\"\n",
    "    if DATA_PATH == os.path.abspath(\"../dataset/weifeng/all_graphs_2.pkl\"):\n",
    "        x = data['adj']\n",
    "        adj = torch.tensor(data[\"adj\"], dtype=torch.float32)\n",
    "        adj = (adj - adj.min()) / (adj.max() - adj.min())\n",
    "        edge_index_ = (adj >= -1).nonzero().t().contiguous()\n",
    "        edge_index_ = edge_index_[:, edge_index_[0] != edge_index_[1]]\n",
    "        edge_weight = adj[edge_index_[0], edge_index_[1]]\n",
    "        label = data['y'].unsqueeze(0)\n",
    "        return Data(\n",
    "            x=x,\n",
    "            x_SC=None,\n",
    "            edge_index=edge_index_,\n",
    "            edge_weight=edge_weight,\n",
    "            edge_index_SC=None,\n",
    "            edge_weight_SC=None,\n",
    "            y=label\n",
    "        )\n",
    "    else:\n",
    "        x = torch.tensor(data[\"FC\"], dtype=torch.float32)\n",
    "        x_SC = torch.tensor(data[\"SC\"], dtype=torch.float32)\n",
    "        x_SC = (x_SC.max() - x_SC) / (x_SC.max() - x_SC.min())\n",
    "\n",
    "        edge_index_FC = (x >= -1).nonzero().t().contiguous()\n",
    "        edge_index_FC = edge_index_FC[:, edge_index_FC[0] != edge_index_FC[1]]\n",
    "        row, col = edge_index_FC\n",
    "        edge_weight_FC = x[row, col]\n",
    "\n",
    "        edge_index_SC =  (x_SC > x_SC.mean()).nonzero().t().contiguous()\n",
    "        edge_index_SC = edge_index_SC[:, edge_index_SC[0] != edge_index_SC[1]]\n",
    "        row, col = edge_index_SC\n",
    "        edge_weight_SC = torch.tensor(x_SC[row, col], dtype=torch.float32)\n",
    "\n",
    "        feature = torch.tensor(data['feature'], dtype=torch.float32).unsqueeze(0) if 'feature' in data.keys() else None\n",
    "        label_tensor = torch.tensor(data['label'], dtype=torch.float32).unsqueeze(0)\n",
    "\n",
    "\n",
    "        return Data(\n",
    "            x=x,\n",
    "            x_SC=x_SC,\n",
    "            edge_index=edge_index_FC,\n",
    "            edge_weight=edge_weight_FC,\n",
    "            edge_index_SC=edge_index_SC,\n",
    "            edge_weight_SC=edge_weight_SC,\n",
    "            y=label_tensor,\n",
    "            feature=feature\n",
    "        )\n",
    "\n",
    "\n",
    "class Brain(InMemoryDataset):\n",
    "    def __init__(\n",
    "        self,\n",
    "        task,\n",
    "        x_attributes=None,\n",
    "        processed_path=\"../data/processed\",\n",
    "        rawdata_path=DATA_PATH,\n",
    "        suffix=None,\n",
    "        args=None,\n",
    "    ):\n",
    "        \n",
    "        if suffix is None:\n",
    "            suffix = \"\"\n",
    "        self.processed_path = os.path.join(processed_path, f\"{task}_data{suffix}.pt\")\n",
    "\n",
    "        self.task = task\n",
    "        self.x_attributes = x_attributes\n",
    "        self.rawdata_path = rawdata_path\n",
    "        self.suffix = suffix\n",
    "        self.pre_transform = pre_transform\n",
    "\n",
    "        super().__init__(pre_transform=self.pre_transform)\n",
    "\n",
    "        self.data, self.slices = torch.load(self.processed_path)\n",
    "\n",
    "        \"\"\"modify\"\"\"\n",
    "        # task = args.task_idx\n",
    "        # task = [1]\n",
    "        # self.data.y = (self.data.y)[:, task]\n",
    "        \"\"\"modify end\"\"\"\n",
    "\n",
    "\n",
    "    def processed_file_names(self):\n",
    "        return os.path.basename(self.processed_path)\n",
    "\n",
    "    def process(self) -> None:\n",
    "        with open(self.rawdata_path, \"rb\") as f:\n",
    "            data = pickle.load(f)\n",
    "\n",
    "        data_list = []\n",
    "        for i in tqdm(range(len(data))):\n",
    "            if self.pre_transform is not None:\n",
    "                data_list.append(self.pre_transform(data[i]))\n",
    "\n",
    "        self.data, self.slices = self.collate(data_list)\n",
    "        print(\"Saving...\")\n",
    "        torch.save((self.data, self.slices), self.processed_path)\n",
    "\n",
    "    @property\n",
    "    def processed_dir(self):\n",
    "        return os.path.dirname(self.processed_path)\n",
    "\n",
    "    def process_data(self, data):\n",
    "        data_list = []\n",
    "        for i in range(len(data)):\n",
    "            try:\n",
    "                data_list.append(self.pre_transform(data[i]))\n",
    "            except:\n",
    "                pdb.set_trace()\n",
    "\n",
    "        data, slices = self.collate(data_list)\n",
    "        print(\"Saving...\")\n",
    "        torch.save((data, slices), self.processed_path)\n",
    "        \n",
    "\n",
    "dataset = Brain(task='classification', x_attributes=['adj'])"
   ]
  },
  {
   "cell_type": "markdown",
   "metadata": {},
   "source": [
    "## Main"
   ]
  },
  {
   "cell_type": "code",
   "execution_count": 2,
   "metadata": {},
   "outputs": [
    {
     "name": "stdout",
     "output_type": "stream",
     "text": [
      "R2: 0.8257957100868225\n"
     ]
    }
   ],
   "source": [
    "import numpy as np\n",
    "from sklearn.linear_model import LinearRegression\n",
    "from sklearn.metrics import r2_score\n",
    "\n",
    "# get the transformed dataset\n",
    "x = dataset.x.reshape(-1, 379, 379)\n",
    "y = dataset.y\n",
    "# y_internalizing = (y[:, 0] + y[:, 1] >= 1).long()  # Internalizing\n",
    "# y_externalizing = (y[:, 2] + y[:, 3] + y[:, 4] >= 1).long()  # Externalizing\n",
    "# y_HC = (torch.sum(y, dim=1) == 0).long()  # Healthy controls\n",
    "# y_DX = (torch.sum(y, dim=1) > 0).long()\n",
    "y = (y[:, 2] + y[:, 3] + y[:, 4] >= 1).long()\n",
    "x_flat = x.reshape(x.shape[0], -1)\n",
    "x_flat = x.mean(axis=1)\n",
    "y_flat = y.flatten(-1)\n",
    "\n",
    "model = LinearRegression()\n",
    "model.fit(x_flat, y_flat)\n",
    "\n",
    "# calculate R2\n",
    "y_pred = model.predict(x_flat)\n",
    "r2 = r2_score(y_flat, y_pred)\n",
    "print(f\"R2: {r2}\")"
   ]
  },
  {
   "cell_type": "code",
   "execution_count": 3,
   "metadata": {},
   "outputs": [],
   "source": [
    "### Mututual Information\n",
    "from sklearn.feature_selection import mutual_info_regression\n",
    "\n",
    "mutual_info = mutual_info_regression(x_flat, y_flat)\n"
   ]
  },
  {
   "cell_type": "code",
   "execution_count": 16,
   "metadata": {},
   "outputs": [
    {
     "data": {
      "text/plain": [
       "Text(0.5, 0, 'brain region')"
      ]
     },
     "execution_count": 16,
     "metadata": {},
     "output_type": "execute_result"
    },
    {
     "data": {
      "image/png": "[encoded data removed]",
      "text/plain": [
       "<Figure size 1000x500 with 1 Axes>"
      ]
     },
     "metadata": {},
     "output_type": "display_data"
    }
   ],
   "source": [
    "import matplotlib.pyplot as plt\n",
    "import numpy as np\n",
    "\n",
    "fig, ax = plt.subplots(figsize=(10, 5))\n",
    "\n",
    "ax.bar(np.arange(len(mutual_info)), mutual_info, color='tab:blue')\n",
    "\n",
    "ax.set_ylabel('correlation')\n",
    "ax.set_xlabel('brain region')\n",
    "\n",
    "plt.savefig"
   ]
  },
  {
   "cell_type": "code",
   "execution_count": 25,
   "metadata": {},
   "outputs": [],
   "source": [
    "### Random Forest\n",
    "from sklearn.ensemble import RandomForestClassifier\n",
    "# raondom split\n",
    "from sklearn.model_selection import train_test_split\n",
    "from imblearn.over_sampling import SMOTE\n",
    "\n",
    "x = dataset.x.reshape(-1, 379, 379)\n",
    "y = dataset.y\n",
    "y = (y[:, 2] + y[:, 3] + y[:, 4] >= 1).long()\n",
    "x_flat = x.reshape(x.shape[0], -1)\n",
    "y_flat = y.flatten(-1)\n",
    "\n",
    "x_train, x_test, y_train, y_test = train_test_split(x_flat, y_flat, test_size=0.4, random_state=42)\n",
    "\n",
    "# data augmentation train only on the positive samples\n",
    "smote = SMOTE()\n",
    "x_train, y_train = smote.fit_resample(x_train, y_train)\n",
    "# model\n",
    "model = RandomForestClassifier()\n",
    "model.fit(x_train, y_train)\n",
    "y_pred = model.predict(x_train)\n",
    "accuracy = accuracy_score(y_train, y_pred)\n"
   ]
  },
  {
   "cell_type": "code",
   "execution_count": 26,
   "metadata": {},
   "outputs": [
    {
     "data": {
      "text/plain": [
       "np.float64(1.0)"
      ]
     },
     "execution_count": 26,
     "metadata": {},
     "output_type": "execute_result"
    }
   ],
   "source": [
    "auc = roc_auc_score(y_train, y_pred)\n",
    "auc "
   ]
  },
  {
   "cell_type": "code",
   "execution_count": 23,
   "metadata": {},
   "outputs": [],
   "source": [
    "### SVM\n",
    "from imblearn.over_sampling import SMOTE\n",
    "from sklearn.svm import NuSVC\n",
    "model = NuSVC()\n",
    "\n",
    "model.fit(x_train, y_train)\n",
    "y_pred = model.predict(x_train)\n",
    "accuracy = accuracy_score(y_train, y_pred)\n",
    "auc = roc_auc_score(y_train, y_pred)"
   ]
  },
  {
   "cell_type": "code",
   "execution_count": 24,
   "metadata": {},
   "outputs": [
    {
     "data": {
      "text/plain": [
       "np.float64(0.9977777777777778)"
      ]
     },
     "execution_count": 24,
     "metadata": {},
     "output_type": "execute_result"
    }
   ],
   "source": [
    "auc"
   ]
  }
 ],
 "metadata": {
  "kernelspec": {
   "display_name": "brain",
   "language": "python",
   "name": "python3"
  },
  "language_info": {
   "codemirror_mode": {
    "name": "ipython",
    "version": 3
   },
   "file_extension": ".py",
   "mimetype": "text/x-python",
   "name": "python",
   "nbconvert_exporter": "python",
   "pygments_lexer": "ipython3",
   "version": "3.9.20"
  }
 },
 "nbformat": 4,
 "nbformat_minor": 2
}
